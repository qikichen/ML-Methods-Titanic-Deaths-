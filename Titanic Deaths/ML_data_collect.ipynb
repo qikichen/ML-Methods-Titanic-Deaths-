{
 "cells": [
  {
   "cell_type": "markdown",
   "id": "a3d99923",
   "metadata": {},
   "source": [
    "# Machine Learning Methods: Titanic Data Collection"
   ]
  },
  {
   "cell_type": "code",
   "execution_count": 8,
   "id": "0a7afe96",
   "metadata": {},
   "outputs": [],
   "source": [
    "import numpy as np\n",
    "import pandas as pd\n",
    "import matplotlib.pyplot as plt\n",
    "from sklearn.tree import DecisionTreeClassifier\n",
    "from sklearn.model_selection import train_test_split\n",
    "from sklearn.model_selection import GridSearchCV\n",
    "from sklearn.metrics import accuracy_score\n",
    "import joblib\n",
    "from sklearn import tree\n",
    "from sklearn.preprocessing import LabelEncoder\n",
    "from sklearn.naive_bayes import GaussianNB, BernoulliNB, MultinomialNB\n",
    "from sklearn import svm"
   ]
  },
  {
   "cell_type": "code",
   "execution_count": 9,
   "id": "f6ee048e",
   "metadata": {},
   "outputs": [],
   "source": [
    "titanic_file = pd.read_csv(\"titanic.csv\")\n",
    "titanic_file = titanic_file[titanic_file[['Sex','Fare',\"Pclass\", \"SibSp\",\"Age\"]].notnull().all(1)]\n",
    "\n",
    "TRIALS = 100"
   ]
  },
  {
   "cell_type": "code",
   "execution_count": null,
   "id": "5d0b4699",
   "metadata": {},
   "outputs": [],
   "source": [
    "data_gauss = np.empty((0,1))\n",
    "data_multinomial= np.empty((0,1))\n",
    "data_bernoulli = np.empty((0,1))\n",
    "data_svm = np.empty((0,1))\n",
    "data_dt_base = np.empty((0,1))\n",
    "data_dt_cross_validated = np.empty((0,1))\n",
    "\n",
    "\n",
    "for x in range(TRIALS):\n",
    "    X = titanic_file.drop(columns=[\"Survived\",\"Name\",\"Ticket\",\"PassengerId\",\"Embarked\",\"Cabin\",\n",
    "                               \"Parch\"])\n",
    "    y = titanic_file[\"Survived\"]\n",
    "    le_sex = LabelEncoder()\n",
    "    X[\"Sex_n\"] = le_sex.fit_transform(X[\"Sex\"])\n",
    "    X = X.drop(columns=[\"Sex\"])\n",
    "    X_training, X_testing, y_training, y_testing = train_test_split(X,y,test_size=0.25)\n",
    "    #gauss\n",
    "    model = GaussianNB()\n",
    "    model.fit(X_training, y_training)\n",
    "    prediction = model.predict(X_testing)\n",
    "    score = accuracy_score(y_testing,prediction)\n",
    "    data_gauss = np.vstack((data_gauss,score))\n",
    "    #Bernoulli\n",
    "    model = BernoulliNB()\n",
    "    model.fit(X_training, y_training)\n",
    "    prediction = model.predict(X_testing)\n",
    "    score = accuracy_score(y_testing,prediction)\n",
    "    data_bernoulli = np.vstack((data_bernoulli,score))\n",
    "    #Multinomial\n",
    "    model = MultinomialNB()\n",
    "    model.fit(X_training, y_training)\n",
    "    prediction = model.predict(X_testing)\n",
    "    score = accuracy_score(y_testing,prediction)\n",
    "    data_multinomial = np.vstack((data_multinomial,score))\n",
    "    #SVM\n",
    "    model = svm.SVC()\n",
    "    model.fit(X_training, y_training)\n",
    "    prediction = model.predict(X_testing)\n",
    "    score = accuracy_score(prediction, y_testing)\n",
    "    data_svm = np.vstack((data_svm,score))\n",
    "    #base decision tree\n",
    "    model = DecisionTreeClassifier()\n",
    "    model.fit(X_training,y_training)\n",
    "    prediction = model.predict(X_testing)\n",
    "    score = accuracy_score(y_testing,prediction)\n",
    "    data_dt_base = np.vstack((data_dt_base,score))\n",
    "    #cross validated decision tree\n",
    "    model = DecisionTreeClassifier()\n",
    "    parameters = {\"max_depth\":range(3,20)}\n",
    "    clf = GridSearchCV(model, parameters, n_jobs=4)\n",
    "    clf.fit(X=X_training, y=y_training)\n",
    "    cross_validated_model = clf.best_estimator_\n",
    "    prediction = cross_validated_model.predict(X_testing)\n",
    "    score = accuracy_score(y_testing, prediction)\n",
    "    data_dt_cross_validated = np.vstack((data_dt_cross_validated,score))\n",
    "\n",
    "print(np.mean(data_gauss),np.std(data_gauss))\n",
    "print(np.mean(data_bernoulli),np.std(data_bernoulli))\n",
    "print(np.mean(data_multinomial),np.std(data_multinomial))\n",
    "print(np.mean(data_svm),np.std(data_svm))\n",
    "print(np.mean(data_dt_base),np.std(data_dt_base))\n",
    "print(np.mean(data_dt_cross_validated),np.std(data_dt_cross_validated))"
   ]
  },
  {
   "cell_type": "raw",
   "id": "a54bc099",
   "metadata": {},
   "source": [
    "Results from first experiment\n",
    "\n",
    "0.7764804469273744 0.02402228140825308\n",
    "0.7805586592178773 0.026664846020471707\n",
    "0.6936312849162012 0.030112923764513296\n",
    "0.6694972067039108 0.030278298854829994\n",
    "0.7618994413407821 0.02885386976980492\n",
    "0.8001117318435754 0.025983119506667686"
   ]
  },
  {
   "cell_type": "code",
   "execution_count": null,
   "id": "51f1fd7f",
   "metadata": {},
   "outputs": [],
   "source": []
  }
 ],
 "metadata": {
  "kernelspec": {
   "display_name": "Python 3",
   "language": "python",
   "name": "python3"
  },
  "language_info": {
   "codemirror_mode": {
    "name": "ipython",
    "version": 3
   },
   "file_extension": ".py",
   "mimetype": "text/x-python",
   "name": "python",
   "nbconvert_exporter": "python",
   "pygments_lexer": "ipython3",
   "version": "3.7.6"
  }
 },
 "nbformat": 4,
 "nbformat_minor": 5
}
