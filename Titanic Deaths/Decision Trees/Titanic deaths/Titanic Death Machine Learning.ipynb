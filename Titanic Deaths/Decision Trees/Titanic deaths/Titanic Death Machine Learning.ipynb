{
 "cells": [
  {
   "cell_type": "markdown",
   "id": "b83c9212",
   "metadata": {},
   "source": [
    "# Machine Learning Decision Trees (Titanic Deaths)"
   ]
  },
  {
   "cell_type": "code",
   "execution_count": 109,
   "id": "552631e1",
   "metadata": {},
   "outputs": [],
   "source": [
    "import numpy as np\n",
    "import pandas as pd\n",
    "import matplotlib.pyplot as plt\n",
    "from sklearn.tree import DecisionTreeClassifier\n",
    "from sklearn.model_selection import train_test_split\n",
    "from sklearn.model_selection import GridSearchCV\n",
    "from sklearn.metrics import accuracy_score\n",
    "import joblib\n",
    "from sklearn import tree\n",
    "from sklearn.preprocessing import LabelEncoder"
   ]
  },
  {
   "cell_type": "code",
   "execution_count": 118,
   "id": "8359a9a5",
   "metadata": {},
   "outputs": [],
   "source": [
    "titanic_file = pd.read_csv(\"titanic.csv\")\n",
    "titanic_file = titanic_file[titanic_file[['Sex','Fare',\"Pclass\", \"SibSp\",\"Age\"]].notnull().all(1)]\n",
    "#titanic_file\n",
    "TRIALS = 10"
   ]
  },
  {
   "cell_type": "code",
   "execution_count": 137,
   "id": "d5630acd",
   "metadata": {},
   "outputs": [],
   "source": [
    "X = titanic_file.drop(columns=[\"Survived\",\"Name\",\"Ticket\",\"PassengerId\",\"Embarked\",\"Cabin\",\n",
    "                               \"Parch\"])\n",
    "y = titanic_file[\"Survived\"]\n",
    "le_sex = LabelEncoder()\n",
    "X[\"Sex_n\"] = le_sex.fit_transform(X[\"Sex\"])\n",
    "X = X.drop(columns=[\"Sex\"])\n",
    "X_training, X_testing, y_training, y_testing = train_test_split(X,y,test_size=0.25)\n",
    "#Base\n",
    "model = DecisionTreeClassifier()\n",
    "model.fit(X_training,y_training)\n",
    "prediction = model.predict(X_testing)\n",
    "score = accuracy_score(y_testing,prediction)\n"
   ]
  },
  {
   "cell_type": "code",
   "execution_count": 138,
   "id": "df4131a8",
   "metadata": {},
   "outputs": [
    {
     "data": {
      "text/plain": [
       "['Titanic_death_prediction_base.joblib']"
      ]
     },
     "execution_count": 138,
     "metadata": {},
     "output_type": "execute_result"
    }
   ],
   "source": [
    "model = DecisionTreeClassifier()\n",
    "model.fit(X,y)\n",
    "joblib.dump(model, \"Titanic_death_prediction_base.joblib\")"
   ]
  },
  {
   "cell_type": "code",
   "execution_count": 139,
   "id": "92405b8d",
   "metadata": {},
   "outputs": [],
   "source": [
    "model = joblib.load(\"Titanic_death_prediction_base.joblib\")\n",
    "#prediction = model.predict()\n",
    "#prediction"
   ]
  },
  {
   "cell_type": "code",
   "execution_count": 140,
   "id": "15a6c4f4",
   "metadata": {},
   "outputs": [],
   "source": [
    "tree.export_graphviz(model, out_file=\"Titanic_death_tree_base.dot\", \n",
    "                     feature_names=[\"Age\",\"Sex_n\",\"Fare\",\"SibSp\",\"Pclass\"])"
   ]
  },
  {
   "cell_type": "code",
   "execution_count": 142,
   "id": "13faa2f2",
   "metadata": {},
   "outputs": [],
   "source": [
    "#Improved model using cross validation\n",
    "model = DecisionTreeClassifier()\n",
    "parameters = {\"max_depth\":range(3,20)}\n",
    "clf = GridSearchCV(model, parameters, n_jobs=4)\n",
    "clf.fit(X=X_training, y=y_training)\n",
    "cross_validated_model = clf.best_estimator_\n",
    "prediction = cross_validated_model.predict(X_testing)\n",
    "score = accuracy_score(y_testing, prediction)\n",
    "\n",
    "joblib.dump(cross_validated_model,\"Cross_validated_decision_tree_titanic_deaths.joblib\")\n",
    "tree.export_graphviz(cross_validated_model, out_file=\"Titanic_death_tree_cross_validated.dot\", \n",
    "                     feature_names=[\"Age\",\"Sex_n\",\"Fare\",\"SibSp\",\"Pclass\"])"
   ]
  },
  {
   "cell_type": "code",
   "execution_count": null,
   "id": "e60b6c35",
   "metadata": {},
   "outputs": [],
   "source": []
  }
 ],
 "metadata": {
  "kernelspec": {
   "display_name": "Python 3",
   "language": "python",
   "name": "python3"
  },
  "language_info": {
   "codemirror_mode": {
    "name": "ipython",
    "version": 3
   },
   "file_extension": ".py",
   "mimetype": "text/x-python",
   "name": "python",
   "nbconvert_exporter": "python",
   "pygments_lexer": "ipython3",
   "version": "3.7.6"
  }
 },
 "nbformat": 4,
 "nbformat_minor": 5
}
