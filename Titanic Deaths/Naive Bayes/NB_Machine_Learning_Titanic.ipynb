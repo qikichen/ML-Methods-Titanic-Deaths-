{
 "cells": [
  {
   "cell_type": "markdown",
   "id": "8e981377",
   "metadata": {},
   "source": [
    "# Machine Learning : Titanic Deaths - Naive Bayes\n"
   ]
  },
  {
   "cell_type": "code",
   "execution_count": 48,
   "id": "9800b5e6",
   "metadata": {},
   "outputs": [],
   "source": [
    "import numpy as np\n",
    "import pandas as pd\n",
    "import matplotlib.pyplot as plt\n",
    "from sklearn.tree import DecisionTreeClassifier\n",
    "from sklearn.model_selection import train_test_split\n",
    "from sklearn.model_selection import GridSearchCV\n",
    "from sklearn.metrics import accuracy_score\n",
    "import joblib\n",
    "from sklearn import tree\n",
    "from sklearn.preprocessing import LabelEncoder\n",
    "from sklearn.naive_bayes import GaussianNB, BernoulliNB, MultinomialNB\n",
    "from sklearn import svm"
   ]
  },
  {
   "cell_type": "code",
   "execution_count": 60,
   "id": "b6a057e1",
   "metadata": {},
   "outputs": [],
   "source": [
    "titanic_file = pd.read_csv(\"titanic.csv\")\n",
    "titanic_file = titanic_file[titanic_file[['Sex','Fare',\"Pclass\", \"SibSp\",\"Age\"]].notnull().all(1)]\n",
    "\n",
    "TRIALS = 100"
   ]
  },
  {
   "cell_type": "code",
   "execution_count": 55,
   "id": "7041d364",
   "metadata": {},
   "outputs": [
    {
     "data": {
      "text/plain": [
       "['NBGaussian_Titanic_Deaths.joblib']"
      ]
     },
     "execution_count": 55,
     "metadata": {},
     "output_type": "execute_result"
    }
   ],
   "source": [
    "X = titanic_file.drop(columns=[\"Survived\",\"Name\",\"Ticket\",\"PassengerId\",\"Embarked\",\"Cabin\",\n",
    "                               \"Parch\"])\n",
    "y = titanic_file[\"Survived\"]\n",
    "le_sex = LabelEncoder()\n",
    "X[\"Sex_n\"] = le_sex.fit_transform(X[\"Sex\"])\n",
    "X = X.drop(columns=[\"Sex\"])\n",
    "X_training, X_testing, y_training, y_testing = train_test_split(X,y,test_size=0.25)\n",
    "model = GaussianNB()\n",
    "model.fit(X_training, y_training)\n",
    "prediction = model.predict(X_testing)\n",
    "score = accuracy_score(y_testing,prediction)\n",
    "\n",
    "joblib.dump(model, \"NBGaussian_Titanic_Deaths.joblib\")"
   ]
  },
  {
   "cell_type": "code",
   "execution_count": 56,
   "id": "985cd858",
   "metadata": {},
   "outputs": [
    {
     "data": {
      "text/plain": [
       "['NBBernoulli_Titanic_Deaths.joblib']"
      ]
     },
     "execution_count": 56,
     "metadata": {},
     "output_type": "execute_result"
    }
   ],
   "source": [
    "model = BernoulliNB()\n",
    "model.fit(X_training, y_training)\n",
    "prediction = model.predict(X_testing)\n",
    "score = accuracy_score(y_testing,prediction)\n",
    "score\n",
    "joblib.dump(model, \"NBBernoulli_Titanic_Deaths.joblib\")"
   ]
  },
  {
   "cell_type": "code",
   "execution_count": 57,
   "id": "bd6c4605",
   "metadata": {},
   "outputs": [
    {
     "data": {
      "text/plain": [
       "['NBMultinomial_Deaths.joblib']"
      ]
     },
     "execution_count": 57,
     "metadata": {},
     "output_type": "execute_result"
    }
   ],
   "source": [
    "model = MultinomialNB()\n",
    "model.fit(X_training, y_training)\n",
    "prediction = model.predict(X_testing)\n",
    "score = accuracy_score(y_testing,prediction)\n",
    "score\n",
    "joblib.dump(model, \"NBMultinomial_Deaths.joblib\")"
   ]
  }
 ],
 "metadata": {
  "kernelspec": {
   "display_name": "Python 3",
   "language": "python",
   "name": "python3"
  },
  "language_info": {
   "codemirror_mode": {
    "name": "ipython",
    "version": 3
   },
   "file_extension": ".py",
   "mimetype": "text/x-python",
   "name": "python",
   "nbconvert_exporter": "python",
   "pygments_lexer": "ipython3",
   "version": "3.7.6"
  }
 },
 "nbformat": 4,
 "nbformat_minor": 5
}
